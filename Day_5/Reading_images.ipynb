{
 "cells": [
  {
   "cell_type": "markdown",
   "id": "50a93161",
   "metadata": {},
   "source": [
    "# Reading OME-Zarr files\n",
    "\n",
    "[![Open in Colab](https://colab.research.google.com/assets/colab-badge.svg)](https://colab.research.google.com/github/ome/EMBL-EBI-imaging-course-04-2024/blob/main/Day_5/Reading_images.ipynb)\n"
   ]
  },
  {
   "cell_type": "markdown",
   "id": "68d06480",
   "metadata": {},
   "source": [
    "## Learning Objectives\n",
    "\n",
    "* Access OME-Zarr files over https\n",
    "* Learn how to access local OME-Zarr file in Python\n",
    "* Learn how to access remote OME-Zarr file in Python"
   ]
  },
  {
   "cell_type": "markdown",
   "id": "f3643975",
   "metadata": {},
   "source": [
    "There are several ways to access data. For the purpose of the topics covered in this workshop, we will access files over ``https`` and use [dask](https://dask.org/)\n",
    "\n",
    "Some sofware packages require to have all the 2D planes in memory in order to work other can work on planar data. We will now show two mechanisms to access the data depending on the needs using ``dask.array.from_zarr``.\n",
    "\n",
    "\n",
    "## Launch\n",
    "\n",
    "This notebook uses the ``environment.yml`` file.\n",
    "\n",
    "See [Setup](./workshop.ipynb)."
   ]
  },
  {
   "cell_type": "markdown",
   "id": "bd8bf058",
   "metadata": {},
   "source": [
    "### Install dependencies if required\n",
    "\n",
    "The cell below will install dependencies if you choose to run the notebook in [Google Colab](https://colab.research.google.com/notebooks/intro.ipynb#recent=true). **Do not run the cell if you are not running the notebook on Google Colab**.\n",
    "\n",
    "\n",
    "If using Google Colab, **do not** use the ``Runtime>Run all`` entry."
   ]
  },
  {
   "cell_type": "code",
   "execution_count": null,
   "id": "d5559bf1",
   "metadata": {},
   "outputs": [],
   "source": [
    "%pip install aiohttp==3.8.4 zarr==2.14.2"
   ]
  },
  {
   "cell_type": "markdown",
   "id": "61cfa1fc",
   "metadata": {},
   "source": [
    "## How to access local OME-Zarr file using Python\n",
    "\n",
    "In the [Conversion](./Conversion.ipynb), we view the ome-zarr file generated locally using napari.\n",
    "Now we will open the file using Python. This is useful when analysing the data.\n",
    "\n",
    "We first look at an existing ``ome.zarr`` file i.e. ``mri.ome.zarr``"
   ]
  },
  {
   "cell_type": "code",
   "execution_count": 1,
   "id": "b2ce5945",
   "metadata": {},
   "outputs": [],
   "source": [
    "import dask\n",
    "import dask.array as da\n",
    "from dask.diagnostics import ProgressBar\n",
    "import numpy"
   ]
  },
  {
   "cell_type": "code",
   "execution_count": 2,
   "id": "4264bc5f",
   "metadata": {},
   "outputs": [],
   "source": [
    "def load_binary_from_local_with_data(path):\n",
    "    with ProgressBar():\n",
    "        return numpy.asarray(da.from_zarr(path))"
   ]
  },
  {
   "cell_type": "markdown",
   "id": "606d8d43-6e9b-41a2-8236-87b890268384",
   "metadata": {},
   "source": [
    "**Do not run the cell below is running in Colab**"
   ]
  },
  {
   "cell_type": "code",
   "execution_count": 4,
   "id": "2824529d",
   "metadata": {},
   "outputs": [
    {
     "name": "stdout",
     "output_type": "stream",
     "text": [
      "[########################################] | 100% Completed | 106.21 ms\n",
      "(27, 226, 186)\n",
      "CPU times: user 171 ms, sys: 70 ms, total: 241 ms\n",
      "Wall time: 1.95 s\n"
     ]
    }
   ],
   "source": [
    "%%time\n",
    "image_location = 'images/mri.ome.zarr/s0'\n",
    "data = load_binary_from_local_with_data(image_location)\n",
    "print(data.shape)"
   ]
  },
  {
   "cell_type": "markdown",
   "id": "643d5003",
   "metadata": {},
   "source": [
    "**Exercise**: if you have generated a file locally as part of the [conversion workflow](Conversion.ipynb), change the ``image_location`` parameter to, for example, ``/tmp/conversion_out/B4_C3.ome.zarr/0/0``."
   ]
  },
  {
   "cell_type": "markdown",
   "id": "0a73aac9-5187-4f46-97e8-66fff3a645d3",
   "metadata": {},
   "source": [
    "**Do not run the cell below is running in Colab**"
   ]
  },
  {
   "cell_type": "code",
   "execution_count": 5,
   "id": "b1532c14",
   "metadata": {},
   "outputs": [],
   "source": [
    "import matplotlib.pyplot as plt\n",
    "%matplotlib inline\n",
    "from ipywidgets import *\n",
    "\n",
    "n = 2\n",
    "if len(data.shape) == 3:\n",
    "    n = 0\n",
    "    \n",
    "def update(z=0):\n",
    "    fig = plt.figure(figsize=(10, 10))\n",
    "    plt.subplot(121)\n",
    "    c = 1\n",
    "    t = 0\n",
    "    if len(data.shape) == 3: \n",
    "        plt.imshow(data[z, :, :])\n",
    "    else:\n",
    "        plt.imshow(data[t, c, z, :, :])\n",
    "    fig.canvas.flush_events()\n",
    "\n",
    "\n"
   ]
  },
  {
   "cell_type": "markdown",
   "id": "8964ec56-beb9-48ee-af2e-14d3ae9a0bbd",
   "metadata": {},
   "source": [
    "**Do not run the cell below is running in Colab**"
   ]
  },
  {
   "cell_type": "code",
   "execution_count": 6,
   "id": "5a83e9f7",
   "metadata": {},
   "outputs": [
    {
     "data": {
      "application/vnd.jupyter.widget-view+json": {
       "model_id": "25666e9d6927455f9b21106926770eca",
       "version_major": 2,
       "version_minor": 0
      },
      "text/plain": [
       "interactive(children=(IntSlider(value=0, continuous_update=False, description='Select slice', max=26), Output(…"
      ]
     },
     "metadata": {},
     "output_type": "display_data"
    },
    {
     "data": {
      "text/plain": [
       "<function __main__.update(z=0)>"
      ]
     },
     "execution_count": 6,
     "metadata": {},
     "output_type": "execute_result"
    }
   ],
   "source": [
    "interact(update, z= widgets.IntSlider(value=0, min=0, max=data.shape[n]-1, step=1, description=\"Select slice\", continuous_update=False))"
   ]
  },
  {
   "cell_type": "code",
   "execution_count": 7,
   "id": "744fc7bd",
   "metadata": {},
   "outputs": [],
   "source": [
    "import matplotlib.pyplot as plt\n",
    "%matplotlib inline\n",
    "from ipywidgets import *\n",
    "\n",
    "\n",
    "    \n",
    "def update(z=0):\n",
    "    fig = plt.figure(figsize=(10, 10))\n",
    "    plt.subplot(121)\n",
    "    c = 1\n",
    "    t = 0\n",
    "    plt.imshow(data[t, c, z, :, :])\n",
    "    fig.canvas.flush_events()\n"
   ]
  },
  {
   "cell_type": "markdown",
   "id": "2c1aec38",
   "metadata": {},
   "source": [
    "## How to access OME-Zarr file on S3\n",
    "\n",
    "To view the data in S3, several options are possible. \n",
    "For the purpose of this workshop, we will view the data over ``https``."
   ]
  },
  {
   "cell_type": "markdown",
   "id": "3161658b",
   "metadata": {},
   "source": [
    "## Read the OME-Zarr file stored in S3 using Python\n",
    "We use the same image as in Day 4. The Tiff image has been converted into OME-Zarr and is available on S3."
   ]
  },
  {
   "cell_type": "code",
   "execution_count": 8,
   "id": "06bb400c",
   "metadata": {},
   "outputs": [],
   "source": [
    "image_id = 6001247"
   ]
  },
  {
   "cell_type": "code",
   "execution_count": 9,
   "id": "54fc672f",
   "metadata": {},
   "outputs": [],
   "source": [
    "ENPOINT_URL = 'https://uk1s3.embassy.ebi.ac.uk/'"
   ]
  },
  {
   "cell_type": "markdown",
   "id": "42196664",
   "metadata": {},
   "source": [
    "### Option 1: Lazy Loading\n",
    "\n",
    "The method below will return a dask array **without** any binary data i.e. **lazy loading**. The dimension order of the array returned is ``(TCZYX)``. \n",
    "\n",
    "Main point to keep in mind is that binary data are not loaded until it is used, i.e. it is **lazily loaded**. \n",
    "The plane will be loaded when the slider is moved."
   ]
  },
  {
   "cell_type": "code",
   "execution_count": 18,
   "id": "bf4123ee",
   "metadata": {},
   "outputs": [],
   "source": [
    "def load_binary_from_s3(name, resolution='0'):\n",
    "    root = '%s/%s/' % (name, resolution)\n",
    "    return da.from_zarr(ENPOINT_URL + root)"
   ]
  },
  {
   "cell_type": "code",
   "execution_count": 19,
   "id": "31694d4d",
   "metadata": {},
   "outputs": [
    {
     "name": "stdout",
     "output_type": "stream",
     "text": [
      "(1, 2, 257, 210, 253)\n",
      "CPU times: user 21.1 ms, sys: 17 ms, total: 38.1 ms\n",
      "Wall time: 316 ms\n"
     ]
    }
   ],
   "source": [
    "%%time \n",
    "name = 'idr/zarr/v0.1/%s.zarr' % image_id\n",
    "data = load_binary_from_s3(name)\n",
    "print(data.shape)"
   ]
  },
  {
   "cell_type": "code",
   "execution_count": 29,
   "id": "eb5eab2a",
   "metadata": {},
   "outputs": [
    {
     "data": {
      "application/vnd.jupyter.widget-view+json": {
       "model_id": "70707dc99c264fec8015cb88133be682",
       "version_major": 2,
       "version_minor": 0
      },
      "text/plain": [
       "interactive(children=(IntSlider(value=0, continuous_update=False, description='Select Z', max=256), Output()),…"
      ]
     },
     "metadata": {},
     "output_type": "display_data"
    },
    {
     "data": {
      "text/plain": [
       "<function __main__.update(z=0)>"
      ]
     },
     "execution_count": 29,
     "metadata": {},
     "output_type": "execute_result"
    }
   ],
   "source": [
    "# Each plane is loaded when the slider is moved\n",
    "interact(update, z= widgets.IntSlider(value=0, min=0, max=data.shape[2]-1, step=1, description=\"Select Z\", continuous_update=False))"
   ]
  },
  {
   "cell_type": "markdown",
   "id": "09ef18e3",
   "metadata": {},
   "source": [
    "### Option 2: Load the binary\n",
    "Load the binary. In that case, we load the 5D-image. This might be required when using a software needing to access the 5D-image to analyse the data. This approach should only be used if the 5D-image is required."
   ]
  },
  {
   "cell_type": "code",
   "execution_count": 20,
   "id": "57de8fed",
   "metadata": {},
   "outputs": [],
   "source": [
    "def load_binary_from_s3_with_data(name, resolution='0'):\n",
    "    root = '%s/%s/' % (name, resolution)\n",
    "    with ProgressBar():\n",
    "        return numpy.asarray(da.from_zarr(ENPOINT_URL + root))"
   ]
  },
  {
   "cell_type": "code",
   "execution_count": 21,
   "id": "e00995d3",
   "metadata": {},
   "outputs": [
    {
     "name": "stdout",
     "output_type": "stream",
     "text": [
      "[########################################] | 100% Completed | 19.20 s\n",
      "(1, 2, 257, 210, 253)\n",
      "CPU times: user 3.8 s, sys: 728 ms, total: 4.53 s\n",
      "Wall time: 19.6 s\n"
     ]
    }
   ],
   "source": [
    "%%time \n",
    "name = 'idr/zarr/v0.1/%s.zarr' % image_id\n",
    "data = load_binary_from_s3_with_data(name)\n",
    "print(data.shape)"
   ]
  },
  {
   "cell_type": "markdown",
   "id": "38d64a8f",
   "metadata": {},
   "source": [
    "This time when the slider is moved, the plate is loaded from disk since it has already been downloaded."
   ]
  },
  {
   "cell_type": "code",
   "execution_count": 32,
   "id": "40842789",
   "metadata": {},
   "outputs": [
    {
     "data": {
      "application/vnd.jupyter.widget-view+json": {
       "model_id": "84f8429d6ea7482d8b57466458a627c4",
       "version_major": 2,
       "version_minor": 0
      },
      "text/plain": [
       "interactive(children=(IntSlider(value=0, continuous_update=False, description='Select Z', max=256), Output()),…"
      ]
     },
     "metadata": {},
     "output_type": "display_data"
    },
    {
     "data": {
      "text/plain": [
       "<function __main__.update(z=0)>"
      ]
     },
     "execution_count": 32,
     "metadata": {},
     "output_type": "execute_result"
    }
   ],
   "source": [
    "interact(update, z= widgets.IntSlider(value=0, min=0, max=data.shape[2]-1, step=1, description=\"Select Z\", continuous_update=False))"
   ]
  },
  {
   "cell_type": "markdown",
   "id": "e2f81a8e",
   "metadata": {},
   "source": [
    "### License (BSD 2-Clause)\n",
    "Copyright (C) 2023 University of Dundee. All Rights Reserved.\n",
    "\n",
    "Redistribution and use in source and binary forms, with or without modification, are permitted provided that the following conditions are met:\n",
    "\n",
    "Redistributions of source code must retain the above copyright notice, this list of conditions and the following disclaimer.\n",
    "Redistributions in binary form must reproduce the above copyright notice, this list of conditions and the following disclaimer in the documentation and/or other materials provided with the distribution.\n",
    "THIS SOFTWARE IS PROVIDED BY THE COPYRIGHT HOLDERS AND CONTRIBUTORS \"AS IS\" AND ANY EXPRESS OR IMPLIED WARRANTIES, INCLUDING, BUT NOT LIMITED TO, THE IMPLIED WARRANTIES OF MERCHANTABILITY AND FITNESS FOR A PARTICULAR PURPOSE ARE DISCLAIMED. IN NO EVENT SHALL THE COPYRIGHT OWNER OR CONTRIBUTORS BE LIABLE FOR ANY DIRECT, INDIRECT, INCIDENTAL, SPECIAL, EXEMPLARY, OR CONSEQUENTIAL DAMAGES (INCLUDING, BUT NOT LIMITED TO, PROCUREMENT OF SUBSTITUTE GOODS OR SERVICES; LOSS OF USE, DATA, OR PROFITS; OR BUSINESS INTERRUPTION) HOWEVER CAUSED AND ON ANY THEORY OF LIABILITY, WHETHER IN CONTRACT, STRICT LIABILITY, OR TORT (INCLUDING NEGLIGENCE OR OTHERWISE) ARISING IN ANY WAY OUT OF THE USE OF THIS SOFTWARE, EVEN IF ADVISED OF THE POSSIBILITY OF SUCH DAMAGE."
   ]
  }
 ],
 "metadata": {
  "kernelspec": {
   "display_name": "imaging_course_basic_day5_2024",
   "language": "python",
   "name": "imaging_course_basic_day5_2024"
  },
  "language_info": {
   "codemirror_mode": {
    "name": "ipython",
    "version": 3
   },
   "file_extension": ".py",
   "mimetype": "text/x-python",
   "name": "python",
   "nbconvert_exporter": "python",
   "pygments_lexer": "ipython3",
   "version": "3.9.19"
  }
 },
 "nbformat": 4,
 "nbformat_minor": 5
}
