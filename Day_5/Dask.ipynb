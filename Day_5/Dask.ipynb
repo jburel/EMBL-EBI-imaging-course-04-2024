{
 "cells": [
  {
   "cell_type": "markdown",
   "id": "776ac5c5",
   "metadata": {},
   "source": [
    "# Dask\n",
    "\n",
    "[![Open in Colab](https://colab.research.google.com/assets/colab-badge.svg)](https://colab.research.google.com/github/ome/EMBL-EBI-imaging-course-04-2024/blob/main/Day_5/Dask.ipynb)\n"
   ]
  },
  {
   "cell_type": "markdown",
   "id": "14634fb9",
   "metadata": {},
   "source": [
    "## Learning objectives\n",
    "\n",
    "* Introduction to Dask Collections\n",
    "* Introduction to Dask schedulers"
   ]
  },
  {
   "cell_type": "markdown",
   "id": "2539f3ab",
   "metadata": {},
   "source": [
    "## What is Dask\n",
    "\n",
    "* [Dask](https://dask.org/) is a free and open-source parallel computing library that scales the existing Python ecosystem.\n",
    "* Dask helps you scale your data science and machine learning workflows. \n",
    "* Dask makes it easy to work with NumPy, pandas, and scikit-learn.\n",
    "* Dask is a framework to build distributed applications.\n",
    "* Dask can scale down to your laptop and up to a cluster. We will use it today on an environment which you can set up on your computer.\n",
    "\n",
    "\n",
    "Dask can be split into **two components**:\n",
    "\n",
    "* **Collections**:  \n",
    "\n",
    "Dask provides high-level Array, Bag, and DataFrame collections that mimic NumPy, lists, and pandas. The advantage of this is that it can run in parallel on data that cannot fit into memory.\n",
    "\n",
    "* **Schedulers**:\n",
    "\n",
    "Dask provides schedulers to run the tasks in parallel."
   ]
  },
  {
   "cell_type": "markdown",
   "id": "0f726c7e",
   "metadata": {},
   "source": [
    "## Examples\n",
    "We will go over some concepts of Dask that we will need today."
   ]
  },
  {
   "cell_type": "markdown",
   "id": "fd3f66d0",
   "metadata": {},
   "source": [
    "### Dask Array\n",
    "\n",
    "Dask arrays combine many [NumPy](https://numpy.org/) arrays, arranged into chunks within a grid."
   ]
  },
  {
   "cell_type": "markdown",
   "id": "6c8efbba",
   "metadata": {},
   "source": [
    "Create an array of numbers represented by several NumPy arrays of size 10x10 (the arrays will be smaller if they cannot be divided evenly)."
   ]
  },
  {
   "cell_type": "code",
   "execution_count": 1,
   "id": "d93f2200",
   "metadata": {},
   "outputs": [
    {
     "data": {
      "text/html": [
       "<table>\n",
       "    <tr>\n",
       "        <td>\n",
       "            <table style=\"border-collapse: collapse;\">\n",
       "                <thead>\n",
       "                    <tr>\n",
       "                        <td> </td>\n",
       "                        <th> Array </th>\n",
       "                        <th> Chunk </th>\n",
       "                    </tr>\n",
       "                </thead>\n",
       "                <tbody>\n",
       "                    \n",
       "                    <tr>\n",
       "                        <th> Bytes </th>\n",
       "                        <td> 78.12 kiB </td>\n",
       "                        <td> 800 B </td>\n",
       "                    </tr>\n",
       "                    \n",
       "                    <tr>\n",
       "                        <th> Shape </th>\n",
       "                        <td> (100, 100) </td>\n",
       "                        <td> (10, 10) </td>\n",
       "                    </tr>\n",
       "                    <tr>\n",
       "                        <th> Dask graph </th>\n",
       "                        <td colspan=\"2\"> 100 chunks in 1 graph layer </td>\n",
       "                    </tr>\n",
       "                    <tr>\n",
       "                        <th> Data type </th>\n",
       "                        <td colspan=\"2\"> float64 numpy.ndarray </td>\n",
       "                    </tr>\n",
       "                </tbody>\n",
       "            </table>\n",
       "        </td>\n",
       "        <td>\n",
       "        <svg width=\"170\" height=\"170\" style=\"stroke:rgb(0,0,0);stroke-width:1\" >\n",
       "\n",
       "  <!-- Horizontal lines -->\n",
       "  <line x1=\"0\" y1=\"0\" x2=\"120\" y2=\"0\" style=\"stroke-width:2\" />\n",
       "  <line x1=\"0\" y1=\"12\" x2=\"120\" y2=\"12\" />\n",
       "  <line x1=\"0\" y1=\"24\" x2=\"120\" y2=\"24\" />\n",
       "  <line x1=\"0\" y1=\"36\" x2=\"120\" y2=\"36\" />\n",
       "  <line x1=\"0\" y1=\"48\" x2=\"120\" y2=\"48\" />\n",
       "  <line x1=\"0\" y1=\"60\" x2=\"120\" y2=\"60\" />\n",
       "  <line x1=\"0\" y1=\"72\" x2=\"120\" y2=\"72\" />\n",
       "  <line x1=\"0\" y1=\"84\" x2=\"120\" y2=\"84\" />\n",
       "  <line x1=\"0\" y1=\"96\" x2=\"120\" y2=\"96\" />\n",
       "  <line x1=\"0\" y1=\"108\" x2=\"120\" y2=\"108\" />\n",
       "  <line x1=\"0\" y1=\"120\" x2=\"120\" y2=\"120\" style=\"stroke-width:2\" />\n",
       "\n",
       "  <!-- Vertical lines -->\n",
       "  <line x1=\"0\" y1=\"0\" x2=\"0\" y2=\"120\" style=\"stroke-width:2\" />\n",
       "  <line x1=\"12\" y1=\"0\" x2=\"12\" y2=\"120\" />\n",
       "  <line x1=\"24\" y1=\"0\" x2=\"24\" y2=\"120\" />\n",
       "  <line x1=\"36\" y1=\"0\" x2=\"36\" y2=\"120\" />\n",
       "  <line x1=\"48\" y1=\"0\" x2=\"48\" y2=\"120\" />\n",
       "  <line x1=\"60\" y1=\"0\" x2=\"60\" y2=\"120\" />\n",
       "  <line x1=\"72\" y1=\"0\" x2=\"72\" y2=\"120\" />\n",
       "  <line x1=\"84\" y1=\"0\" x2=\"84\" y2=\"120\" />\n",
       "  <line x1=\"96\" y1=\"0\" x2=\"96\" y2=\"120\" />\n",
       "  <line x1=\"108\" y1=\"0\" x2=\"108\" y2=\"120\" />\n",
       "  <line x1=\"120\" y1=\"0\" x2=\"120\" y2=\"120\" style=\"stroke-width:2\" />\n",
       "\n",
       "  <!-- Colored Rectangle -->\n",
       "  <polygon points=\"0.0,0.0 120.0,0.0 120.0,120.0 0.0,120.0\" style=\"fill:#ECB172A0;stroke-width:0\"/>\n",
       "\n",
       "  <!-- Text -->\n",
       "  <text x=\"60.000000\" y=\"140.000000\" font-size=\"1.0rem\" font-weight=\"100\" text-anchor=\"middle\" >100</text>\n",
       "  <text x=\"140.000000\" y=\"60.000000\" font-size=\"1.0rem\" font-weight=\"100\" text-anchor=\"middle\" transform=\"rotate(-90,140.000000,60.000000)\">100</text>\n",
       "</svg>\n",
       "        </td>\n",
       "    </tr>\n",
       "</table>"
      ],
      "text/plain": [
       "dask.array<random_sample, shape=(100, 100), dtype=float64, chunksize=(10, 10), chunktype=numpy.ndarray>"
      ]
     },
     "execution_count": 1,
     "metadata": {},
     "output_type": "execute_result"
    }
   ],
   "source": [
    "import dask.array as da\n",
    "x = da.random.random((100, 100), chunks=(10, 10))\n",
    "x"
   ]
  },
  {
   "cell_type": "markdown",
   "id": "f3e3a50b",
   "metadata": {},
   "source": [
    "Use NumPy syntax for operations with Dask arrays. See [numpy.array documentation](https://numpy.org/doc/stable/reference/generated/numpy.array.html).\n",
    "\n",
    "We transform the array `x` and add the values of ``x`` and transformed array ``x.T``.\n",
    "We divide the size of the array and the chunk by two along the first axis and slice from index 50 to the end along the second axis and calculate the mean"
   ]
  },
  {
   "cell_type": "code",
   "execution_count": 2,
   "id": "c617c061",
   "metadata": {},
   "outputs": [
    {
     "name": "stdout",
     "output_type": "stream",
     "text": [
      "(50, 100)\n"
     ]
    },
    {
     "data": {
      "text/html": [
       "<table>\n",
       "    <tr>\n",
       "        <td>\n",
       "            <table style=\"border-collapse: collapse;\">\n",
       "                <thead>\n",
       "                    <tr>\n",
       "                        <td> </td>\n",
       "                        <th> Array </th>\n",
       "                        <th> Chunk </th>\n",
       "                    </tr>\n",
       "                </thead>\n",
       "                <tbody>\n",
       "                    \n",
       "                    <tr>\n",
       "                        <th> Bytes </th>\n",
       "                        <td> 400 B </td>\n",
       "                        <td> 40 B </td>\n",
       "                    </tr>\n",
       "                    \n",
       "                    <tr>\n",
       "                        <th> Shape </th>\n",
       "                        <td> (50,) </td>\n",
       "                        <td> (5,) </td>\n",
       "                    </tr>\n",
       "                    <tr>\n",
       "                        <th> Dask graph </th>\n",
       "                        <td colspan=\"2\"> 10 chunks in 7 graph layers </td>\n",
       "                    </tr>\n",
       "                    <tr>\n",
       "                        <th> Data type </th>\n",
       "                        <td colspan=\"2\"> float64 numpy.ndarray </td>\n",
       "                    </tr>\n",
       "                </tbody>\n",
       "            </table>\n",
       "        </td>\n",
       "        <td>\n",
       "        <svg width=\"170\" height=\"79\" style=\"stroke:rgb(0,0,0);stroke-width:1\" >\n",
       "\n",
       "  <!-- Horizontal lines -->\n",
       "  <line x1=\"0\" y1=\"0\" x2=\"120\" y2=\"0\" style=\"stroke-width:2\" />\n",
       "  <line x1=\"0\" y1=\"29\" x2=\"120\" y2=\"29\" style=\"stroke-width:2\" />\n",
       "\n",
       "  <!-- Vertical lines -->\n",
       "  <line x1=\"0\" y1=\"0\" x2=\"0\" y2=\"29\" style=\"stroke-width:2\" />\n",
       "  <line x1=\"12\" y1=\"0\" x2=\"12\" y2=\"29\" />\n",
       "  <line x1=\"24\" y1=\"0\" x2=\"24\" y2=\"29\" />\n",
       "  <line x1=\"36\" y1=\"0\" x2=\"36\" y2=\"29\" />\n",
       "  <line x1=\"48\" y1=\"0\" x2=\"48\" y2=\"29\" />\n",
       "  <line x1=\"60\" y1=\"0\" x2=\"60\" y2=\"29\" />\n",
       "  <line x1=\"72\" y1=\"0\" x2=\"72\" y2=\"29\" />\n",
       "  <line x1=\"84\" y1=\"0\" x2=\"84\" y2=\"29\" />\n",
       "  <line x1=\"96\" y1=\"0\" x2=\"96\" y2=\"29\" />\n",
       "  <line x1=\"108\" y1=\"0\" x2=\"108\" y2=\"29\" />\n",
       "  <line x1=\"120\" y1=\"0\" x2=\"120\" y2=\"29\" style=\"stroke-width:2\" />\n",
       "\n",
       "  <!-- Colored Rectangle -->\n",
       "  <polygon points=\"0.0,0.0 120.0,0.0 120.0,29.030629010473877 0.0,29.030629010473877\" style=\"fill:#ECB172A0;stroke-width:0\"/>\n",
       "\n",
       "  <!-- Text -->\n",
       "  <text x=\"60.000000\" y=\"49.030629\" font-size=\"1.0rem\" font-weight=\"100\" text-anchor=\"middle\" >50</text>\n",
       "  <text x=\"140.000000\" y=\"14.515315\" font-size=\"1.0rem\" font-weight=\"100\" text-anchor=\"middle\" transform=\"rotate(0,140.000000,14.515315)\">1</text>\n",
       "</svg>\n",
       "        </td>\n",
       "    </tr>\n",
       "</table>"
      ],
      "text/plain": [
       "dask.array<mean_agg-aggregate, shape=(50,), dtype=float64, chunksize=(5,), chunktype=numpy.ndarray>"
      ]
     },
     "execution_count": 2,
     "metadata": {},
     "output_type": "execute_result"
    }
   ],
   "source": [
    "y = x + x.T\n",
    "print(y[::2].shape)\n",
    "z = y[::2, 50:].mean(axis=1)\n",
    "z"
   ]
  },
  {
   "cell_type": "markdown",
   "id": "37c16d0d",
   "metadata": {},
   "source": [
    "To get the result as a NumPy array"
   ]
  },
  {
   "cell_type": "code",
   "execution_count": 3,
   "id": "22d99141",
   "metadata": {},
   "outputs": [
    {
     "data": {
      "text/plain": [
       "array([0.99387257, 0.96935229, 1.07594789, 1.00430547, 1.00633923,\n",
       "       1.05218843, 0.89504474, 0.93693521, 1.05244555, 1.01114845,\n",
       "       0.98928399, 0.93204796, 0.98111744, 1.03169816, 0.98100764,\n",
       "       1.00686031, 0.92301498, 1.03136664, 0.97009194, 0.95128823,\n",
       "       1.14148438, 0.93776693, 0.97435221, 1.02874689, 0.96536685,\n",
       "       1.05228182, 0.95785756, 1.01689283, 0.97566939, 1.1128208 ,\n",
       "       0.95049786, 1.01239195, 1.02641229, 0.97599396, 0.97189093,\n",
       "       0.93376495, 1.11421979, 1.03765536, 0.96272213, 1.16471244,\n",
       "       0.96973197, 1.00470409, 1.02202256, 1.15421643, 1.02526428,\n",
       "       1.01759746, 0.97639717, 1.01633872, 1.04134736, 1.07963514])"
      ]
     },
     "execution_count": 3,
     "metadata": {},
     "output_type": "execute_result"
    }
   ],
   "source": [
    "z.compute()"
   ]
  },
  {
   "cell_type": "markdown",
   "id": "6a5fa2cf",
   "metadata": {},
   "source": [
    "Depending on the available RAM, you might want to let the data persist in memory to speed up further computation"
   ]
  },
  {
   "cell_type": "code",
   "execution_count": 4,
   "id": "79b627d3",
   "metadata": {},
   "outputs": [],
   "source": [
    "y = y.persist()"
   ]
  },
  {
   "cell_type": "markdown",
   "id": "a37df3a9",
   "metadata": {},
   "source": [
    "To find the time it takes to perform an operation "
   ]
  },
  {
   "cell_type": "code",
   "execution_count": 5,
   "id": "b58c8e0a",
   "metadata": {},
   "outputs": [
    {
     "name": "stdout",
     "output_type": "stream",
     "text": [
      "CPU times: user 23.8 ms, sys: 3.41 ms, total: 27.2 ms\n",
      "Wall time: 26.5 ms\n"
     ]
    },
    {
     "data": {
      "text/plain": [
       "10008.909992306213"
      ]
     },
     "execution_count": 5,
     "metadata": {},
     "output_type": "execute_result"
    }
   ],
   "source": [
    "%time y.sum().compute()"
   ]
  },
  {
   "cell_type": "markdown",
   "id": "868d2a29",
   "metadata": {},
   "source": [
    "## Dask Delayed \n",
    "\n",
    "``for`` loops are often used to parallelize, e.g. iterate over all the 2D-planes of a Z-stack.\n",
    "\n",
    "Below we show how to parallelize sequential incrementation of each value using ``dask.delayed``."
   ]
  },
  {
   "cell_type": "code",
   "execution_count": 6,
   "id": "ece827e5",
   "metadata": {},
   "outputs": [],
   "source": [
    "data = [1, 2, 3, 4, 5, 6, 7, 8]"
   ]
  },
  {
   "cell_type": "code",
   "execution_count": 7,
   "id": "492c4d10",
   "metadata": {},
   "outputs": [],
   "source": [
    "from time import sleep\n",
    "\n",
    "def increment(x):\n",
    "    sleep(1)\n",
    "    return x + 1"
   ]
  },
  {
   "cell_type": "code",
   "execution_count": 8,
   "id": "928b3f83",
   "metadata": {},
   "outputs": [
    {
     "name": "stdout",
     "output_type": "stream",
     "text": [
      "Compute: 44\n",
      "CPU times: user 4.33 ms, sys: 2.19 ms, total: 6.52 ms\n",
      "Wall time: 8.03 s\n"
     ]
    }
   ],
   "source": [
    "%%time\n",
    "# Running without Dask Delayed (the \"usual\" way)\n",
    "results = []\n",
    "for x in data:\n",
    "    y = increment(x)\n",
    "    results.append(y)\n",
    "    \n",
    "total = sum(results)\n",
    "\n",
    "print(\"Compute:\", total) "
   ]
  },
  {
   "cell_type": "markdown",
   "id": "ffa9fb59",
   "metadata": {},
   "source": [
    "We will \"transform\" our function to use ``dask.delayed``. \n",
    "The code below will finish **very quickly**. It will record what we want to compute as a task into a graph that will run later on parallel hardware."
   ]
  },
  {
   "cell_type": "code",
   "execution_count": 9,
   "id": "8b8e72a2",
   "metadata": {},
   "outputs": [],
   "source": [
    "from dask import delayed"
   ]
  },
  {
   "cell_type": "code",
   "execution_count": 10,
   "id": "5142853a",
   "metadata": {},
   "outputs": [
    {
     "name": "stdout",
     "output_type": "stream",
     "text": [
      "Graph to compute [Delayed('increment-c720e17d-950b-4104-8596-1ee5e9028bca'), Delayed('increment-ee9ee952-8169-4a33-a21d-426550491e6c'), Delayed('increment-a5cff5a2-964b-4d82-a743-73b8725921bd'), Delayed('increment-732c74b1-0971-4d97-8e76-d9bb585c7483'), Delayed('increment-ea78d0c0-f81d-410b-9439-7583929ba176'), Delayed('increment-87c24abc-106f-46c1-9c69-b73606f2a4af'), Delayed('increment-64a3b18d-b993-497a-be6f-d4df3ac792e1'), Delayed('increment-b728dd17-9ade-409b-8ce5-a2c09def7ff6')]\n"
     ]
    }
   ],
   "source": [
    "# No computation happens here\n",
    "lazy_results = []\n",
    "\n",
    "for x in data:\n",
    "    y = delayed(increment)(x)\n",
    "    lazy_results.append(y)\n",
    "    \n",
    "print(\"Graph to compute\", lazy_results) "
   ]
  },
  {
   "cell_type": "markdown",
   "id": "dceda569",
   "metadata": {},
   "source": [
    "To get the result, we need to invoke the ``dask.compute`` method.\n",
    "\n",
    "The ``*`` in front of ``lazy_results`` below will **unpack the sequence/collection into positional arguments**."
   ]
  },
  {
   "cell_type": "code",
   "execution_count": 11,
   "id": "65a8f990",
   "metadata": {},
   "outputs": [
    {
     "name": "stdout",
     "output_type": "stream",
     "text": [
      "CPU times: user 4.96 ms, sys: 2.49 ms, total: 7.45 ms\n",
      "Wall time: 1.01 s\n",
      "Computed the graph : (2, 3, 4, 5, 6, 7, 8, 9)\n"
     ]
    }
   ],
   "source": [
    "import dask\n",
    "%time result = dask.compute(*lazy_results)\n",
    "print(\"Computed the graph :\", result)  # Print result after it is computed"
   ]
  },
  {
   "cell_type": "markdown",
   "id": "d1dd5624",
   "metadata": {},
   "source": [
    "There are few tricks to learn with ``dask.delayed``. Please check [dask.delayed best practices](https://docs.dask.org/en/latest/delayed-best-practices.html)"
   ]
  },
  {
   "cell_type": "markdown",
   "id": "f97cefb7",
   "metadata": {},
   "source": [
    "### Parallelize the code below using ``dask.delayed``\n",
    "\n",
    "We create a 3D-numpy array mimicking an image z-stack.\n",
    "We want to segment the XY-plane using ``dask_image``.\n",
    "The common way is to do it in ``for`` loop (see below), we want to segment the planes in parallel using ``dask.compute``\n",
    "\n",
    "```\n",
    "import dask etc.\n",
    "# Create an artificial image\n",
    "planes = da.random.random((10, 100, 100), chunks=(10, 10, 10))\n",
    "print(planes.shape)\n",
    "```\n",
    "\n",
    "```\n",
    "import dask_image.ndfilters\n",
    "import dask_image.ndmeasure\n",
    "\n",
    "\n",
    "for z in range(planes.shape[0]):\n",
    "    # move the code below in a new function and use dask.delayed\n",
    "    plane = planes[z, :, :]\n",
    "    smoothed_image = dask_image.ndfilters.gaussian_filter(plane, sigma=[1, 1])\n",
    "    threshold_value = 0.33 * da.max(smoothed_image).compute()\n",
    "    threshold_image = smoothed_image > threshold_value\n",
    "    label_image, num_labels = dask_image.ndmeasure.label(threshold_image)\n",
    "```    "
   ]
  },
  {
   "cell_type": "markdown",
   "id": "338bed63",
   "metadata": {},
   "source": [
    "### Install dependencies if required\n",
    "\n",
    "The cell below will install dependencies if you choose to run the notebook in [Google Colab](https://colab.research.google.com/notebooks/intro.ipynb#recent=true). **Do not run the cell if you are not running the notebook in Google Colab**.\n",
    "\n",
    "\n",
    "If using Google Colab, **do not** use the ``Runtime>Run all`` entry."
   ]
  },
  {
   "cell_type": "code",
   "execution_count": null,
   "id": "4bc5b4c1",
   "metadata": {},
   "outputs": [],
   "source": [
    "%pip install dask-image"
   ]
  },
  {
   "cell_type": "code",
   "execution_count": 12,
   "id": "aaac340b",
   "metadata": {},
   "outputs": [
    {
     "name": "stdout",
     "output_type": "stream",
     "text": [
      "(10, 100, 100)\n"
     ]
    }
   ],
   "source": [
    "planes = da.random.random((10, 100, 100), chunks=(2, 10, 10))\n",
    "print(planes.shape)"
   ]
  },
  {
   "cell_type": "code",
   "execution_count": 13,
   "id": "a9e67383",
   "metadata": {},
   "outputs": [],
   "source": [
    "import dask\n",
    "import dask_image.ndfilters\n",
    "import dask_image.ndmeasure\n",
    "\n",
    "def analyze(z):\n",
    "    plane = planes[z, :, :]\n",
    "    smoothed_image = dask_image.ndfilters.gaussian_filter(plane, sigma=[1, 1])\n",
    "    threshold_value = 0.33 * da.max(smoothed_image).compute()\n",
    "    threshold_image = smoothed_image > threshold_value\n",
    "    label_image, num_labels = dask_image.ndmeasure.label(threshold_image)\n",
    "    name = \"z:%s\" % (z)\n",
    "    return label_image, name"
   ]
  },
  {
   "cell_type": "markdown",
   "id": "7c864b44",
   "metadata": {},
   "source": [
    "Segment every plane across the z-stack:\n",
    " * First we prepare the graph\n",
    " * The we compute"
   ]
  },
  {
   "cell_type": "code",
   "execution_count": 14,
   "id": "ccdf57d2",
   "metadata": {},
   "outputs": [],
   "source": [
    "from dask import delayed\n",
    "\n",
    "lazy_results = []\n",
    "for z in range(planes.shape[0]):\n",
    "    r = delayed(analyze)(z)\n",
    "    lazy_results.append(r)"
   ]
  },
  {
   "cell_type": "code",
   "execution_count": 15,
   "id": "b44eafda",
   "metadata": {},
   "outputs": [
    {
     "name": "stdout",
     "output_type": "stream",
     "text": [
      "CPU times: user 6.3 s, sys: 482 ms, total: 6.78 s\n",
      "Wall time: 6.47 s\n"
     ]
    }
   ],
   "source": [
    "%time results = dask.compute(*lazy_results)"
   ]
  },
  {
   "cell_type": "markdown",
   "id": "5c9e1e35",
   "metadata": {},
   "source": [
    "View the results"
   ]
  },
  {
   "cell_type": "code",
   "execution_count": 17,
   "id": "7b19519f",
   "metadata": {},
   "outputs": [
    {
     "data": {
      "application/vnd.jupyter.widget-view+json": {
       "model_id": "b7e0d3e0b9a54ae4a9b510c7e262da0d",
       "version_major": 2,
       "version_minor": 0
      },
      "text/plain": [
       "interactive(children=(IntSlider(value=0, continuous_update=False, description='Select Plane', max=9), Output()…"
      ]
     },
     "metadata": {},
     "output_type": "display_data"
    },
    {
     "data": {
      "text/plain": [
       "<function __main__.display(i=0)>"
      ]
     },
     "execution_count": 17,
     "metadata": {},
     "output_type": "execute_result"
    }
   ],
   "source": [
    "import matplotlib.pyplot as plt\n",
    "%matplotlib inline\n",
    "from ipywidgets import *\n",
    "\n",
    "def display(i=0):\n",
    "    r, name = results[i]\n",
    "    fig = plt.figure(figsize=(10, 10))\n",
    "    plt.subplot(121)\n",
    "    plt.imshow(r)\n",
    "    plt.title(name)\n",
    "    fig.canvas.flush_events()\n",
    "\n",
    "interact(display, i= widgets.IntSlider(value=0, min=0, max=len(results)-1, step=1, description=\"Select Plane\", continuous_update=False))\n"
   ]
  },
  {
   "cell_type": "markdown",
   "id": "44972e84",
   "metadata": {},
   "source": [
    "### (Advanced) Dask cluster \n",
    "\n",
    "Your computer will have multiple cores e.g. 4. When writing regular Python code, you are probably only using 1 of them. If you are using NumPy, e.g. for matrix multiplication, you will be using multiple cores because NumPy knows how to do it but general Python code doesn't.\n",
    "\n",
    "Dask cluster allows you to use multiple cores on your computer.\n",
    "Dask has also a dashboard that you can use to monitor your work.\n",
    "\n",
    "This time we will use a local cluster to increment each value in the ``data`` array defined above."
   ]
  },
  {
   "cell_type": "code",
   "execution_count": 41,
   "id": "233af74b",
   "metadata": {},
   "outputs": [],
   "source": [
    "def prepare_call(client):\n",
    "    futures = []\n",
    "    for x in data:\n",
    "        y = client.submit(increment, x)\n",
    "        futures.append(y)\n",
    "    return futures"
   ]
  },
  {
   "cell_type": "markdown",
   "id": "3cad29a0",
   "metadata": {},
   "source": [
    "Create a local cluster"
   ]
  },
  {
   "cell_type": "code",
   "execution_count": 42,
   "id": "796cf1b6",
   "metadata": {},
   "outputs": [],
   "source": [
    "from dask.distributed import Client, LocalCluster"
   ]
  },
  {
   "cell_type": "code",
   "execution_count": 43,
   "id": "f9c74fb5",
   "metadata": {
    "scrolled": true
   },
   "outputs": [
    {
     "name": "stdout",
     "output_type": "stream",
     "text": [
      "[2, 3, 4, 5, 6, 7, 8, 9]\n"
     ]
    }
   ],
   "source": [
    "# if you want to specify number of workers etc.\n",
    "cluster = LocalCluster(n_workers=2, processes=True, threads_per_worker=1)\n",
    "# or simply \n",
    "# cluster = LocalCluster()\n",
    "with Client(cluster) as client:\n",
    "    # perform code\n",
    "    futures = prepare_call(client)\n",
    "    results = client.gather(futures)\n",
    "\n",
    "print(results)"
   ]
  },
  {
   "cell_type": "markdown",
   "id": "b0a27b81",
   "metadata": {},
   "source": [
    "## Parallelize using LocalCluster\n",
    "\n",
    "Using the 3D data above, parallelize the \"segmentation\" example this time using a LocalCluster instead of ``dask.delayed``. [Solution](Solutions_Dask.ipynb)"
   ]
  },
  {
   "cell_type": "markdown",
   "id": "3993e299",
   "metadata": {},
   "source": [
    "### License (BSD 2-Clause)\n",
    "Copyright (C) 2023 University of Dundee. All Rights Reserved.\n",
    "\n",
    "Redistribution and use in source and binary forms, with or without modification, are permitted provided that the following conditions are met:\n",
    "\n",
    "Redistributions of source code must retain the above copyright notice, this list of conditions and the following disclaimer.\n",
    "Redistributions in binary form must reproduce the above copyright notice, this list of conditions and the following disclaimer in the documentation and/or other materials provided with the distribution.\n",
    "THIS SOFTWARE IS PROVIDED BY THE COPYRIGHT HOLDERS AND CONTRIBUTORS \"AS IS\" AND ANY EXPRESS OR IMPLIED WARRANTIES, INCLUDING, BUT NOT LIMITED TO, THE IMPLIED WARRANTIES OF MERCHANTABILITY AND FITNESS FOR A PARTICULAR PURPOSE ARE DISCLAIMED. IN NO EVENT SHALL THE COPYRIGHT OWNER OR CONTRIBUTORS BE LIABLE FOR ANY DIRECT, INDIRECT, INCIDENTAL, SPECIAL, EXEMPLARY, OR CONSEQUENTIAL DAMAGES (INCLUDING, BUT NOT LIMITED TO, PROCUREMENT OF SUBSTITUTE GOODS OR SERVICES; LOSS OF USE, DATA, OR PROFITS; OR BUSINESS INTERRUPTION) HOWEVER CAUSED AND ON ANY THEORY OF LIABILITY, WHETHER IN CONTRACT, STRICT LIABILITY, OR TORT (INCLUDING NEGLIGENCE OR OTHERWISE) ARISING IN ANY WAY OUT OF THE USE OF THIS SOFTWARE, EVEN IF ADVISED OF THE POSSIBILITY OF SUCH DAMAGE."
   ]
  }
 ],
 "metadata": {
  "kernelspec": {
   "display_name": "imaging_course_day_5_2023",
   "language": "python",
   "name": "imaging_course_day_5_2023"
  },
  "language_info": {
   "codemirror_mode": {
    "name": "ipython",
    "version": 3
   },
   "file_extension": ".py",
   "mimetype": "text/x-python",
   "name": "python",
   "nbconvert_exporter": "python",
   "pygments_lexer": "ipython3",
   "version": "3.9.16"
  }
 },
 "nbformat": 4,
 "nbformat_minor": 5
}
