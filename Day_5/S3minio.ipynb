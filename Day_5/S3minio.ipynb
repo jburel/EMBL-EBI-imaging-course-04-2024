{
 "cells": [
  {
   "cell_type": "markdown",
   "id": "c7a9c157",
   "metadata": {},
   "source": [
    "# S3 download and upload using Minio client\n",
    "\n",
    "**DOES NOT RUN on Windows**"
   ]
  },
  {
   "cell_type": "markdown",
   "id": "0301e39f",
   "metadata": {},
   "source": [
    "## Learning Objectives:\n",
    "\n",
    "* Introduce a cloud storage (minio play).\n",
    "* Show how to download an OME-Zarr file and view the data on your local machine.\n",
    "* Show how to Create a new bucket.\n",
    "* Show how to upload an OME-Zarr file. "
   ]
  },
  {
   "cell_type": "markdown",
   "id": "f7cbe714",
   "metadata": {},
   "source": [
    "**Note that this notebook does not work in Google Colab.**\n",
    "\n",
    "There are a number of different types of cloud storage and there are a number of tools that you can use to access your cloud storage, but here we are going to focus on a single one: **mc**.\n",
    "\n",
    "mc is provided by the minio project and is described as \"a modern alternative to UNIX commands like ls, cat, cp, mirror, diff, find etc.\" The quickstart guide can be found under https://docs.minio.io/docs/minio-client-quickstart-guide.html. For our purposes we will focus on how to use it to upload and manage data in S3.\n",
    "\n",
    "\n",
    "## Launch\n",
    "\n",
    "We assume that ``environment_minio.yml`` has been created and activated in a terminal. The commands below must be run in the terminal in which the environment has been activated.\n",
    "\n",
    "See [Setup](./workshop.ipynb)."
   ]
  },
  {
   "cell_type": "markdown",
   "id": "f37e2dd1",
   "metadata": {},
   "source": [
    "Check the version of ``mc`` and update:\n",
    "\n",
    "```\n",
    "mc -v\n",
    "mc update\n",
    "```"
   ]
  },
  {
   "cell_type": "markdown",
   "id": "a7421fc9",
   "metadata": {},
   "source": [
    "Create an alias for an S3 compatible service:\n",
    "```\n",
    "mc config host add public https://uk1s3.embassy.ebi.ac.uk \"\" \"\"\n",
    "```"
   ]
  },
  {
   "cell_type": "markdown",
   "id": "72b7ad06",
   "metadata": {},
   "source": [
    "Inspect the content of this public S3 bucket:\n",
    "```\n",
    "mc ls public/idr\n",
    "```"
   ]
  },
  {
   "cell_type": "markdown",
   "id": "17367e4a",
   "metadata": {},
   "source": [
    "Download the ome.zarr locally:\n",
    "```\n",
    "mc cp -r public/idr/zarr/v0.4/idr0062A/6001240.zarr .\n",
    "```"
   ]
  },
  {
   "cell_type": "markdown",
   "id": "282d155c",
   "metadata": {},
   "source": [
    "Inspect the downloaded image using [napari Desktop client](https://napari.org/stable/):\n",
    "```\n",
    "napari 6001240.zarr\n",
    "```\n",
    "When napari dialog asking you to choose a reader pops up, select the ``napari-ome-zarr`` reader."
   ]
  },
  {
   "cell_type": "markdown",
   "id": "f9b17518",
   "metadata": {},
   "source": [
    "Create your own bucket:\n",
    "    \n",
    "```\n",
    "mc config host list play\n",
    "mc mb --ignore-existing play/test-for-ws\n",
    "```"
   ]
  },
  {
   "cell_type": "markdown",
   "id": "e1c3f922",
   "metadata": {},
   "source": [
    "Set the bucket to public:\n",
    "```\n",
    "mc anonymous set public play/test-for-ws\n",
    "```"
   ]
  },
  {
   "cell_type": "markdown",
   "id": "c65baa1f",
   "metadata": {},
   "source": [
    "There is a \"play\" environment on minio.\n",
    "You can log in to the webpage and explore what the many other users have uploaded at https://play.minio.io:9000/minio/\n",
    "\n",
    "To connect, use the output of the command ``mc config host list play``.\n",
    "\n",
    " * Pass the ``AccessKey`` as username and ``SecretKey`` as password\n",
    " * Search for the bucket ``test-for-ws`` browse it."
   ]
  },
  {
   "cell_type": "markdown",
   "id": "17ab6ce3",
   "metadata": {},
   "source": [
    "Upload your ome.zarr to your newly created bucket:\n",
    "```\n",
    "mc cp -r ./6001240.zarr/ play/test-for-ws/6001240.zarr\n",
    "```"
   ]
  },
  {
   "cell_type": "markdown",
   "id": "aa43e213",
   "metadata": {},
   "source": [
    "Open the uploaded image from S3 using [napari Desktop client](https://napari.org/stable/):\n",
    "    \n",
    "```\n",
    "napari https://play.min.io/test-for-ws/6001240.zarr/\n",
    "```"
   ]
  },
  {
   "cell_type": "markdown",
   "id": "a8b5bca6",
   "metadata": {},
   "source": [
    "### License (BSD 2-Clause)\n",
    "Copyright (C) 2024 University of Dundee. All Rights Reserved.\n",
    "\n",
    "Redistribution and use in source and binary forms, with or without modification, are permitted provided that the following conditions are met:\n",
    "\n",
    "Redistributions of source code must retain the above copyright notice, this list of conditions and the following disclaimer.\n",
    "Redistributions in binary form must reproduce the above copyright notice, this list of conditions and the following disclaimer in the documentation and/or other materials provided with the distribution.\n",
    "THIS SOFTWARE IS PROVIDED BY THE COPYRIGHT HOLDERS AND CONTRIBUTORS \"AS IS\" AND ANY EXPRESS OR IMPLIED WARRANTIES, INCLUDING, BUT NOT LIMITED TO, THE IMPLIED WARRANTIES OF MERCHANTABILITY AND FITNESS FOR A PARTICULAR PURPOSE ARE DISCLAIMED. IN NO EVENT SHALL THE COPYRIGHT OWNER OR CONTRIBUTORS BE LIABLE FOR ANY DIRECT, INDIRECT, INCIDENTAL, SPECIAL, EXEMPLARY, OR CONSEQUENTIAL DAMAGES (INCLUDING, BUT NOT LIMITED TO, PROCUREMENT OF SUBSTITUTE GOODS OR SERVICES; LOSS OF USE, DATA, OR PROFITS; OR BUSINESS INTERRUPTION) HOWEVER CAUSED AND ON ANY THEORY OF LIABILITY, WHETHER IN CONTRACT, STRICT LIABILITY, OR TORT (INCLUDING NEGLIGENCE OR OTHERWISE) ARISING IN ANY WAY OUT OF THE USE OF THIS SOFTWARE, EVEN IF ADVISED OF THE POSSIBILITY OF SUCH DAMAGE."
   ]
  }
 ],
 "metadata": {
  "kernelspec": {
   "display_name": "imaging_course_minio_day5_2024",
   "language": "python",
   "name": "imaging_course_minio_day5_2024"
  },
  "language_info": {
   "codemirror_mode": {
    "name": "ipython",
    "version": 3
   },
   "file_extension": ".py",
   "mimetype": "text/x-python",
   "name": "python",
   "nbconvert_exporter": "python",
   "pygments_lexer": "ipython3",
   "version": "3.9.19"
  }
 },
 "nbformat": 4,
 "nbformat_minor": 5
}
